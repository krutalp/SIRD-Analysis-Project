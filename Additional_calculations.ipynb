{
 "cells": [
  {
   "cell_type": "code",
   "execution_count": 2,
   "metadata": {},
   "outputs": [],
   "source": [
    "# import relevant libraries\n",
    "import numpy as np\n",
    "import pandas as pd\n",
    "import matplotlib.pyplot as plt\n",
    "import math\n",
    "import seaborn as sns\n",
    "from scipy.stats import gamma, norm, poisson\n",
    "import scipy.stats as st\n",
    "\n",
    "prng = np.random.default_rng()"
   ]
  },
  {
   "cell_type": "code",
   "execution_count": 13,
   "metadata": {},
   "outputs": [],
   "source": [
    "df2 = pd.read_csv('prior_data_worldwide.csv')\n",
    "df2.head()\n",
    "\n",
    "\n",
    "# fix bounds a  to b  by muliplying by a constnt k and readjust this at the top\n",
    "beta_data = df2['beta'].to_numpy()\n",
    "beta_mean = np.mean(beta_data)\n",
    "beta_std= np.std(beta_data)\n",
    "rv_beta = st.norm(loc = beta_mean, scale = beta_std)\n",
    "\n",
    "gamma_data = df2['gamma'].to_numpy()\n",
    "gamma_mean = np.mean(gamma_data)\n",
    "gamma_std= np.std(gamma_data)\n",
    "rv_gamma = st.norm(loc = gamma_mean, scale = gamma_std)\n",
    "\n",
    "kappa_data = df2['Kappa'].to_numpy()\n",
    "kappa_mean = np.mean(kappa_data)\n",
    "kappa_std = np.std(kappa_data)\n",
    "rv_kappa = st.norm(loc = kappa_mean, scale = kappa_std)\n",
    "\n",
    "rv_sigma = st.norm(loc = 15, scale = 10)\n"
   ]
  },
  {
   "cell_type": "code",
   "execution_count": 17,
   "metadata": {},
   "outputs": [
    {
     "name": "stdout",
     "output_type": "stream",
     "text": [
      "0.011290000000000001 0.0030574335642823054\n"
     ]
    }
   ],
   "source": [
    "print(kappa_mean, kappa_std)"
   ]
  },
  {
   "cell_type": "code",
   "execution_count": 15,
   "metadata": {},
   "outputs": [
    {
     "data": {
      "text/plain": [
       "[<matplotlib.lines.Line2D at 0x14493ba8af0>]"
      ]
     },
     "execution_count": 15,
     "metadata": {},
     "output_type": "execute_result"
    },
    {
     "data": {
      "image/png": "[encoded data removed]",
      "text/plain": [
       "<Figure size 432x288 with 1 Axes>"
      ]
     },
     "metadata": {
      "needs_background": "light"
     },
     "output_type": "display_data"
    }
   ],
   "source": [
    "b1 = np.linspace(0.16,0.25872)\n",
    "\n",
    "beta1 = rv_beta.pdf(b1) \n",
    "#\n",
    "\n",
    "plt.plot(b1,beta1)"
   ]
  },
  {
   "cell_type": "code",
   "execution_count": null,
   "metadata": {},
   "outputs": [],
   "source": [
    "# Attempt 2: I_of_t dependent on U  \n",
    "# function that computes I_of_t at given t value, and given u paramters, \n",
    "\n",
    "def get_i_of_t(u, t):\n",
    "\n",
    "    # This function already accounts for the ODE's initial conditions\n",
    "\n",
    "    from scipy.integrate import solve_ivp\n",
    "\n",
    "    # Parameters of simulation\n",
    "    N = 10000 # Population\n",
    "\n",
    "    tmax = 110 # No. of days to simulate\n",
    "\n",
    "    def sird_model ( t, z, beta, gamma, kappa ):\n",
    "\n",
    "        s, i, r, d = z\n",
    "\n",
    "        eq01 = -(beta * s * i)/N\n",
    "        eq02 = (beta * s * i)/N - (gamma*i) - (kappa*i)\n",
    "        eq03 = gamma * i\n",
    "        eq04 = kappa * i\n",
    "\n",
    "        return np.array([eq01, eq02, eq03, eq04])\n",
    "\n",
    "    # Initial condition\n",
    "    i0 = 3\n",
    "    z0 = np.array([N - i0, i0, 0, 0])\n",
    "\n",
    "    # Value of parameters\n",
    "    beta_0 = u[0];\n",
    "    gamma_0 = u[1];\n",
    "    kappa_0 = u[2]\n",
    "\n",
    "    # Solution is computed at these values of t\n",
    "    t_ser = np.linspace(0,tmax,tmax+1)\n",
    "\n",
    "    sol = solve_ivp( sird_model, [0, tmax], z0, \\\n",
    "    args=(beta_0, gamma_0, kappa_0), t_eval = t_ser )\n",
    "\n",
    "    # Solution is stored in individual arrays s(t), i(t), r(t), d(t)\n",
    "    s_of_t = sol.y[0,:]; i_of_t = sol.y[1,:]; r_of_t = sol.y[2,:]; d_of_t = sol.y[3,:];\n",
    "\n",
    "    return i_of_t[t]\n",
    "    # returns i_of_t at any time t"
   ]
  }
 ],
 "metadata": {
  "interpreter": {
   "hash": "f9e91a40b407a4a207f08d41ebcb8999b86edf0f0b968ee338e38ec87d4e195b"
  },
  "kernelspec": {
   "display_name": "Python 3.8.5 ('base')",
   "language": "python",
   "name": "python3"
  },
  "language_info": {
   "codemirror_mode": {
    "name": "ipython",
    "version": 3
   },
   "file_extension": ".py",
   "mimetype": "text/x-python",
   "name": "python",
   "nbconvert_exporter": "python",
   "pygments_lexer": "ipython3",
   "version": "3.8.5"
  },
  "orig_nbformat": 4
 },
 "nbformat": 4,
 "nbformat_minor": 2
}
